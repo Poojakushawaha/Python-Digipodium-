{
 "cells": [
  {
   "cell_type": "code",
   "execution_count": 7,
   "metadata": {},
   "outputs": [],
   "source": [
    "def random3():\n",
    "    from random import choices\n",
    "    x=list(\"🌄🌤⛄❄⚡☔⛱🏍🌈🌂⭐🌜\")\n",
    "    return \" \".join(choices(x,k=8))"
   ]
  },
  {
   "cell_type": "code",
   "execution_count": 8,
   "metadata": {},
   "outputs": [
    {
     "data": {
      "text/plain": [
       "'🌂 ⚡ ⚡ 🌜 🌜 🌜 ❄ 🌄'"
      ]
     },
     "execution_count": 8,
     "metadata": {},
     "output_type": "execute_result"
    }
   ],
   "source": [
    "random3()"
   ]
  },
  {
   "cell_type": "code",
   "execution_count": 10,
   "metadata": {},
   "outputs": [
    {
     "name": "stdout",
     "output_type": "stream",
     "text": [
      "🌄 ⛱ ⛄ ⛄ 🌂 🌜 🌤 ⚡\n",
      "❄ 🌤 🌜 🌂 ⚡ 🌈 ⚡ ☔\n",
      "☔ ⚡ ⭐ 🌂 ☔ ⛄ 🏍 ⛱\n",
      "❄ 🌄 ❄ ⭐ ☔ ⭐ 🌂 ⚡\n",
      "⛄ ⛱ 🌈 ⛱ 🌤 ☔ ⚡ 🏍\n"
     ]
    }
   ],
   "source": [
    "for i in range(5):\n",
    "    print(f'{random3()}')"
   ]
  },
  {
   "cell_type": "code",
   "execution_count": 11,
   "metadata": {},
   "outputs": [
    {
     "name": "stdout",
     "output_type": "stream",
     "text": [
      "🌤 🌈 ⛱ ⭐ ❄ 🌜 🌂 🌈\n"
     ]
    }
   ],
   "source": [
    "ans=random3()\n",
    "print(ans)"
   ]
  }
 ],
 "metadata": {
  "kernelspec": {
   "display_name": "base",
   "language": "python",
   "name": "python3"
  },
  "language_info": {
   "codemirror_mode": {
    "name": "ipython",
    "version": 3
   },
   "file_extension": ".py",
   "mimetype": "text/x-python",
   "name": "python",
   "nbconvert_exporter": "python",
   "pygments_lexer": "ipython3",
   "version": "3.10.8"
  },
  "orig_nbformat": 4,
  "vscode": {
   "interpreter": {
    "hash": "193aa6218da7f76a59dc2bd6ea87d2b224c2417ad29cdf12ab4b4772313a8948"
   }
  }
 },
 "nbformat": 4,
 "nbformat_minor": 2
}
