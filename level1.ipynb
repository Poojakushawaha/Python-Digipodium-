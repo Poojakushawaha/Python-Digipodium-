{
 "cells": [
  {
   "cell_type": "code",
   "execution_count": 1,
   "metadata": {},
   "outputs": [
    {
     "data": {
      "text/plain": [
       "4"
      ]
     },
     "execution_count": 1,
     "metadata": {},
     "output_type": "execute_result"
    }
   ],
   "source": [
    "2+2"
   ]
  },
  {
   "cell_type": "code",
   "execution_count": 2,
   "metadata": {},
   "outputs": [
    {
     "data": {
      "text/plain": [
       "15"
      ]
     },
     "execution_count": 2,
     "metadata": {},
     "output_type": "execute_result"
    }
   ],
   "source": [
    "6+9\n"
   ]
  },
  {
   "cell_type": "code",
   "execution_count": 3,
   "metadata": {},
   "outputs": [
    {
     "data": {
      "text/plain": [
       "801"
      ]
     },
     "execution_count": 3,
     "metadata": {},
     "output_type": "execute_result"
    }
   ],
   "source": [
    "89*9"
   ]
  },
  {
   "cell_type": "markdown",
   "metadata": {},
   "source": []
  },
  {
   "attachments": {},
   "cell_type": "markdown",
   "metadata": {},
   "source": [
    "lkjhgfds"
   ]
  },
  {
   "attachments": {},
   "cell_type": "markdown",
   "metadata": {},
   "source": [
    "### level 01\n",
    "  -variables\n",
    "   -input \n",
    "   -output\n",
    "   -operators\n",
    "   -datatypes\n",
    "\n",
    "### level 2\n",
    "-conditional statements\n",
    "   -if\n",
    "    -ifelse\n",
    "    -elif\n",
    "    -match\n",
    "-loops\n",
    "   -for\n",
    "   -while\n",
    "   -functions\n",
    "\n",
    "### level 3\n",
    "   -string\n",
    "   -dict\n",
    "   -list\n",
    "   \n",
    "\n",
    "\n",
    "\n"
   ]
  },
  {
   "attachments": {},
   "cell_type": "markdown",
   "metadata": {},
   "source": [
    "age=10\n",
    "is_married=false\n",
    "name=\"bob\"\n",
    "value=1.323\n"
   ]
  },
  {
   "cell_type": "code",
   "execution_count": 7,
   "metadata": {},
   "outputs": [
    {
     "ename": "ValueError",
     "evalue": "Exceeds the limit (4300) for integer string conversion; use sys.set_int_max_str_digits() to increase the limit",
     "output_type": "error",
     "traceback": [
      "\u001b[1;31m---------------------------------------------------------------------------\u001b[0m",
      "\u001b[1;31mValueError\u001b[0m                                Traceback (most recent call last)",
      "Cell \u001b[1;32mIn[7], line 6\u001b[0m\n\u001b[0;32m      4\u001b[0m value\u001b[39m=\u001b[39m\u001b[39m1.323\u001b[39m\n\u001b[0;32m      5\u001b[0m a\u001b[39m=\u001b[39m\u001b[39m10\u001b[39m\u001b[39m*\u001b[39m\u001b[39m*\u001b[39m\u001b[39m5000\u001b[39m\n\u001b[1;32m----> 6\u001b[0m \u001b[39mprint\u001b[39;49m(a)\n",
      "\u001b[1;31mValueError\u001b[0m: Exceeds the limit (4300) for integer string conversion; use sys.set_int_max_str_digits() to increase the limit"
     ]
    }
   ],
   "source": [
    "age=10\n",
    "is_married=False\n",
    "name=\"bob\"\n",
    "value=1.323\n",
    "a=10**5000\n",
    "print(a)\n"
   ]
  },
  {
   "cell_type": "code",
   "execution_count": 8,
   "metadata": {},
   "outputs": [],
   "source": [
    "x=1.10\n",
    "y=1.0\n",
    "i=-35.59\n",
    "z=87.7e100"
   ]
  },
  {
   "cell_type": "code",
   "execution_count": null,
   "metadata": {},
   "outputs": [],
   "source": []
  },
  {
   "attachments": {},
   "cell_type": "markdown",
   "metadata": {},
   "source": [
    "String datatype"
   ]
  },
  {
   "cell_type": "code",
   "execution_count": 9,
   "metadata": {},
   "outputs": [],
   "source": [
    "name=\"dfgyuiuytfd\"\n",
    "color=\"yellow\"\n",
    "institute=\"dfghj\""
   ]
  },
  {
   "cell_type": "code",
   "execution_count": null,
   "metadata": {},
   "outputs": [],
   "source": [
    "#IMPORTANT NOTES---1.boolean value represents one of two values:True or False\n",
    "  #  Because they are like switches\n",
    "  #Nonetype-- when u dont want to store something but want to create a variable"
   ]
  },
  {
   "attachments": {},
   "cell_type": "markdown",
   "metadata": {},
   "source": [
    "x=none"
   ]
  },
  {
   "cell_type": "code",
   "execution_count": 12,
   "metadata": {},
   "outputs": [],
   "source": [
    "x=None\n",
    "#LIST\n",
    "# it is a ordered seqence of items\n",
    "a=[2,3,4,6,889,\"sdfghjk\",78.90]"
   ]
  },
  {
   "attachments": {},
   "cell_type": "markdown",
   "metadata": {},
   "source": [
    "#TUPLE is immutable(unchangeble)\n",
    "#set -unordered collection of uniqe items\n",
    "a={2,,56,,3444.5,\"oiuy\"}"
   ]
  },
  {
   "cell_type": "code",
   "execution_count": 13,
   "metadata": {},
   "outputs": [],
   "source": [
    "#TUPLE is immutable(unchangeble)\n",
    "#set -unordered collection of uniqe items\n",
    "a={2,56,3444.5,\"oiuy\"}\n"
   ]
  },
  {
   "cell_type": "code",
   "execution_count": 14,
   "metadata": {},
   "outputs": [],
   "source": [
    "#DICTIONARY\n",
    "car={9:8,\"brand\":\"ford\",\"year\":2023}\n"
   ]
  },
  {
   "cell_type": "code",
   "execution_count": 15,
   "metadata": {},
   "outputs": [
    {
     "name": "stdout",
     "output_type": "stream",
     "text": [
      "177\n",
      "7830\n",
      "3\n",
      "104495676331778315966103878903450701989608781073244439950619431748912396904023371769000000000000000000000000000000000000000000000000000000000000000000000000000000000000000\n",
      "3\n",
      "1\n",
      "1.0344827586206897\n"
     ]
    }
   ],
   "source": [
    "#operators\n",
    "y=90\n",
    "g=87\n",
    "\n",
    "print(y+g)\n",
    "print(y*g)\n",
    "print(y-g)\n",
    "print(y**g)\n",
    "print(y%g)\n",
    "print(y//g)\n",
    "print(y/g)"
   ]
  },
  {
   "cell_type": "code",
   "execution_count": null,
   "metadata": {},
   "outputs": [],
   "source": []
  },
  {
   "attachments": {},
   "cell_type": "markdown",
   "metadata": {},
   "source": [
    "### Operator precedence\n",
    " 1.bracets\n",
    " 2.*/ // ** (esme jo phlt ayega vo hi chlega)\n",
    " 3.\n",
    " "
   ]
  },
  {
   "cell_type": "code",
   "execution_count": 16,
   "metadata": {},
   "outputs": [
    {
     "data": {
      "text/plain": [
       "9.666666666666666"
      ]
     },
     "execution_count": 16,
     "metadata": {},
     "output_type": "execute_result"
    }
   ],
   "source": [
    "2**3+5/3"
   ]
  },
  {
   "cell_type": "code",
   "execution_count": 17,
   "metadata": {},
   "outputs": [
    {
     "data": {
      "text/plain": [
       "5.0"
      ]
     },
     "execution_count": 17,
     "metadata": {},
     "output_type": "execute_result"
    }
   ],
   "source": [
    "(3+2)*(5*3)/(3*5)"
   ]
  },
  {
   "cell_type": "code",
   "execution_count": 22,
   "metadata": {},
   "outputs": [
    {
     "name": "stdout",
     "output_type": "stream",
     "text": [
      "0\n"
     ]
    }
   ],
   "source": [
    "#Assiment operater\n",
    "a=100\n",
    "a+=15\n",
    "# answer of a is 115\n",
    "a-=10\n",
    "a*=10\n",
    "a%=5\n",
    "print(a)"
   ]
  },
  {
   "cell_type": "code",
   "execution_count": null,
   "metadata": {},
   "outputs": [],
   "source": []
  },
  {
   "attachments": {},
   "cell_type": "markdown",
   "metadata": {},
   "source": [
    "comparison operator"
   ]
  },
  {
   "cell_type": "code",
   "execution_count": 24,
   "metadata": {},
   "outputs": [
    {
     "ename": "TypeError",
     "evalue": "'>' not supported between instances of 'NoneType' and 'int'",
     "output_type": "error",
     "traceback": [
      "\u001b[1;31m---------------------------------------------------------------------------\u001b[0m",
      "\u001b[1;31mTypeError\u001b[0m                                 Traceback (most recent call last)",
      "Cell \u001b[1;32mIn[24], line 1\u001b[0m\n\u001b[1;32m----> 1\u001b[0m \u001b[39mprint\u001b[39m(x\u001b[39m>\u001b[39;49my)\n\u001b[0;32m      2\u001b[0m \u001b[39mprint\u001b[39m(x\u001b[39m<\u001b[39my)\n\u001b[0;32m      3\u001b[0m \u001b[39mprint\u001b[39m(x\u001b[39m==\u001b[39m\u001b[39m100\u001b[39m)\n",
      "\u001b[1;31mTypeError\u001b[0m: '>' not supported between instances of 'NoneType' and 'int'"
     ]
    }
   ],
   "source": [
    "x=67\n",
    "y=90\n",
    "print(x>y)\n",
    "print(x<y)\n",
    "print(\"hello\"==\"hellow\")\n",
    "print(\"hi\"!=\"hi\")\n",
    "print(\"this\"==\"that\")\n",
    "print(x==100)\n",
    "print(x!=45)\n",
    "print(x>=89)\n",
    "print(y<=20)\n",
    "\n"
   ]
  },
  {
   "cell_type": "code",
   "execution_count": null,
   "metadata": {},
   "outputs": [],
   "source": []
  },
  {
   "cell_type": "code",
   "execution_count": 1,
   "metadata": {},
   "outputs": [
    {
     "data": {
      "text/plain": [
       "False"
      ]
     },
     "execution_count": 1,
     "metadata": {},
     "output_type": "execute_result"
    }
   ],
   "source": [
    "a=90\n",
    "b=99\n",
    "a>9 and a>b"
   ]
  },
  {
   "cell_type": "code",
   "execution_count": 2,
   "metadata": {},
   "outputs": [
    {
     "data": {
      "text/plain": [
       "False"
      ]
     },
     "execution_count": 2,
     "metadata": {},
     "output_type": "execute_result"
    }
   ],
   "source": [
    "not a"
   ]
  },
  {
   "cell_type": "code",
   "execution_count": null,
   "metadata": {},
   "outputs": [],
   "source": [
    "bool(0)# True"
   ]
  },
  {
   "attachments": {},
   "cell_type": "markdown",
   "metadata": {},
   "source": [
    "any value other than 0 is true"
   ]
  },
  {
   "attachments": {},
   "cell_type": "markdown",
   "metadata": {},
   "source": [
    "empty string is taken as False"
   ]
  },
  {
   "cell_type": "code",
   "execution_count": 1,
   "metadata": {},
   "outputs": [
    {
     "data": {
      "text/plain": [
       "False"
      ]
     },
     "execution_count": 1,
     "metadata": {},
     "output_type": "execute_result"
    }
   ],
   "source": [
    "name=input(\"Enter name:\")\n",
    "bool(name)"
   ]
  },
  {
   "cell_type": "code",
   "execution_count": 3,
   "metadata": {},
   "outputs": [
    {
     "data": {
      "text/plain": [
       "True"
      ]
     },
     "execution_count": 3,
     "metadata": {},
     "output_type": "execute_result"
    }
   ],
   "source": [
    "x=[7,89,78,9,8]\n",
    "10 in x \n",
    "9 in x"
   ]
  },
  {
   "cell_type": "code",
   "execution_count": null,
   "metadata": {},
   "outputs": [],
   "source": [
    "#user input,input(prompt)\n",
    "#type casting ->convert one datatype to other"
   ]
  },
  {
   "cell_type": "markdown",
   "metadata": {},
   "source": []
  },
  {
   "cell_type": "code",
   "execution_count": 6,
   "metadata": {},
   "outputs": [
    {
     "data": {
      "text/plain": [
       "'987654'"
      ]
     },
     "execution_count": 6,
     "metadata": {},
     "output_type": "execute_result"
    }
   ],
   "source": [
    "str(987654)# it is uded to convert a value into string"
   ]
  },
  {
   "cell_type": "code",
   "execution_count": 4,
   "metadata": {},
   "outputs": [
    {
     "data": {
      "text/plain": [
       "0"
      ]
     },
     "execution_count": 4,
     "metadata": {},
     "output_type": "execute_result"
    }
   ],
   "source": [
    "int(False)"
   ]
  },
  {
   "attachments": {},
   "cell_type": "markdown",
   "metadata": {},
   "source": []
  },
  {
   "cell_type": "code",
   "execution_count": 7,
   "metadata": {},
   "outputs": [],
   "source": [
    "name=input(\"Enter ur name\")\n",
    "phone=input(\"Enter your contact\")\n",
    "age=input(\"Enter ur age\")"
   ]
  },
  {
   "attachments": {},
   "cell_type": "markdown",
   "metadata": {},
   "source": [
    "### Wap to calculate area and circumference of circle using diameter as input"
   ]
  },
  {
   "cell_type": "code",
   "execution_count": 12,
   "metadata": {},
   "outputs": [
    {
     "name": "stdout",
     "output_type": "stream",
     "text": [
      "19103.760000000002\n"
     ]
    }
   ],
   "source": [
    "#pi*r**2\n",
    "pi=float(3.14)\n",
    "r=int(input(\"Enter the value\"))\n",
    "area=pi*r**2\n",
    "print(area)\n",
    " "
   ]
  },
  {
   "cell_type": "code",
   "execution_count": 13,
   "metadata": {},
   "outputs": [
    {
     "name": "stdout",
     "output_type": "stream",
     "text": [
      "principal987\n",
      "show si710640\n"
     ]
    }
   ],
   "source": [
    "p=int(input(\"Principal amt\"))\n",
    "r=int(input(\"rate of interest\"))\n",
    "t=int(input(\"Time in years\"))\n",
    "si=p*r*t\n",
    "print(f\"principal{p}\")\n",
    "print(f\"show si{si}\")"
   ]
  },
  {
   "cell_type": "code",
   "execution_count": 15,
   "metadata": {},
   "outputs": [
    {
     "name": "stdout",
     "output_type": "stream",
     "text": [
      "poojs have9 badges\n"
     ]
    }
   ],
   "source": [
    "y=input(\"Enter ur name\")\n",
    "x=int(input(\"How many badges\"))\n",
    "print(f\"{y} have {x} badges\")"
   ]
  },
  {
   "cell_type": "code",
   "execution_count": 2,
   "metadata": {},
   "outputs": [
    {
     "data": {
      "text/plain": [
       "6"
      ]
     },
     "execution_count": 2,
     "metadata": {},
     "output_type": "execute_result"
    }
   ],
   "source": [
    "list=[\"watsapp\",\"utub\",\"call\",\"msg\",\"google\",\"game\"]\n",
    "len(list)"
   ]
  },
  {
   "cell_type": "code",
   "execution_count": 4,
   "metadata": {},
   "outputs": [
    {
     "name": "stdout",
     "output_type": "stream",
     "text": [
      "hurraay 😁\n"
     ]
    }
   ],
   "source": [
    "username=input(\"Enter your name\")\n",
    "email=input(\"Enter your email\")\n",
    "pwd=input(\"enter your password\")\n",
    "pwd2=input(\"confirm your password\")\n",
    "if len(username)>=4 and len(username)<=15:\n",
    "    if'@' in email and email.islower()and len(email)>10:\n",
    "        if len(pwd)>6 and pwd!=username:\n",
    "            if pwd==pwd2:\n",
    "               print(\"hurraay 😁\")\n",
    "            else:\n",
    "               print(\"password do not match 😞\")\n",
    "        else:\n",
    "            print(\"pssword is invalid😤\")\n",
    "else:\n",
    "    print(\"username is invalid 🤷‍♀️\")\n",
    "    \n"
   ]
  },
  {
   "cell_type": "code",
   "execution_count": 10,
   "metadata": {},
   "outputs": [
    {
     "ename": "ValueError",
     "evalue": "invalid literal for int() with base 10: 'hasattrello'",
     "output_type": "error",
     "traceback": [
      "\u001b[1;31m---------------------------------------------------------------------------\u001b[0m",
      "\u001b[1;31mValueError\u001b[0m                                Traceback (most recent call last)",
      "Cell \u001b[1;32mIn[10], line 1\u001b[0m\n\u001b[1;32m----> 1\u001b[0m \u001b[39mint\u001b[39;49m(\u001b[39m\"\u001b[39;49m\u001b[39mhasattrello\u001b[39;49m\u001b[39m\"\u001b[39;49m)\u001b[39m# it returns false\u001b[39;00m\n",
      "\u001b[1;31mValueError\u001b[0m: invalid literal for int() with base 10: 'hasattrello'"
     ]
    }
   ],
   "source": [
    "int(\"hasattrello\")# it returns false"
   ]
  },
  {
   "cell_type": "code",
   "execution_count": 5,
   "metadata": {},
   "outputs": [
    {
     "name": "stdout",
     "output_type": "stream",
     "text": [
      "u r intelligent\n"
     ]
    }
   ],
   "source": [
    "name=input(\"Enter your name\")\n",
    "max_mark=int(input(\"enter the mark\"))\n",
    "if max_mark>90:\n",
    "    print(\"u r outstanding\")\n",
    "elif max_mark>75:\n",
    "    print(\"u r intelligent\")\n",
    "elif max_mark>60:\n",
    "    print(\"u r a good performer\")\n",
    "else:\n",
    "    print(\"poor\")"
   ]
  },
  {
   "cell_type": "code",
   "execution_count": 7,
   "metadata": {},
   "outputs": [
    {
     "name": "stdout",
     "output_type": "stream",
     "text": [
      "given number is even 78\n"
     ]
    }
   ],
   "source": [
    "h=int(input(\"enter a number\"))\n",
    "if h%2==0:\n",
    "    print(\"given number is even\",+h)\n",
    "else:\n",
    "    print(\"given number is odd\",+h)"
   ]
  },
  {
   "cell_type": "code",
   "execution_count": null,
   "metadata": {},
   "outputs": [],
   "source": [
    "a=int(input(\"Enter a number\"))\n"
   ]
  },
  {
   "attachments": {},
   "cell_type": "markdown",
   "metadata": {},
   "source": [
    "prime number"
   ]
  },
  {
   "cell_type": "code",
   "execution_count": 3,
   "metadata": {},
   "outputs": [
    {
     "name": "stdout",
     "output_type": "stream",
     "text": [
      "p\n",
      "y\n",
      "t\n",
      "r\n",
      "f\n",
      "j\n",
      "k\n",
      "j\n"
     ]
    }
   ],
   "source": [
    "name=\"poiuytrfjkjuuUIOAiou\"\n",
    "for i in name:\n",
    "    if i not in 'aeiouAEIOU':\n",
    "        print(i)"
   ]
  },
  {
   "attachments": {},
   "cell_type": "markdown",
   "metadata": {},
   "source": [
    "membership operator in ,not in (This is use in searching)"
   ]
  },
  {
   "cell_type": "code",
   "execution_count": 8,
   "metadata": {},
   "outputs": [
    {
     "name": "stdout",
     "output_type": "stream",
     "text": [
      "red has 3 cahrs\n",
      "red is odd\n",
      "green has 5 cahrs\n",
      "green is odd\n",
      "blue has 4 cahrs\n",
      "blueis even \n",
      "black has 5 cahrs\n",
      "black is odd\n"
     ]
    }
   ],
   "source": [
    "color=[\"red\",\"green\",\"blue\",\"black\"]\n",
    "for d in color:\n",
    "    print(f'{d} has {len(d)} cahrs')\n",
    "    if len(d)%2==0:\n",
    "         print(f'{d}is even ')\n",
    "    else:\n",
    "         print(f'{d} is odd')\n"
   ]
  },
  {
   "cell_type": "code",
   "execution_count": 2,
   "metadata": {},
   "outputs": [
    {
     "name": "stdout",
     "output_type": "stream",
     "text": [
      "(1+4)**2=25\n",
      "(2+5)**2=49\n",
      "(3+67)**2=4900\n",
      "(4+8)**2=144\n",
      "(5+9)**2=196\n",
      "(6+2)**2=64\n"
     ]
    }
   ],
   "source": [
    "x=[1,2,3,4,5,6]\n",
    "y=[4,5,67,8,9,2]\n",
    "for i,j in zip(x,y):\n",
    "    print(f'({i}+{j})**2={(i+j)**2}')"
   ]
  },
  {
   "cell_type": "code",
   "execution_count": 3,
   "metadata": {},
   "outputs": [
    {
     "name": "stdout",
     "output_type": "stream",
     "text": [
      "1\n",
      "3\n",
      "4\n",
      "7\n",
      "8\n",
      "6\n",
      "5\n",
      "9\n",
      "7\n"
     ]
    }
   ],
   "source": [
    "a=[1,3,4,0,0,7,8,6,5,0,9,7,0]\n",
    "for i in a:\n",
    "    if i==0: continue\n",
    "    print(i)"
   ]
  },
  {
   "cell_type": "code",
   "execution_count": 8,
   "metadata": {},
   "outputs": [
    {
     "name": "stdout",
     "output_type": "stream",
     "text": [
      "sam\n",
      "prince\n",
      "sara\n",
      "Error👽:Empty name found\n"
     ]
    }
   ],
   "source": [
    "names=[\"sam\",\"prince\",\"sara\",\"\",\"alex\",\"jill\"]\n",
    "for i in names:\n",
    "    \n",
    "    if len(i)==0:\n",
    "        print(\"Error👽:Empty name found\")\n",
    "        break\n",
    "    print(i)\n"
   ]
  },
  {
   "cell_type": "code",
   "execution_count": null,
   "metadata": {},
   "outputs": [],
   "source": []
  }
 ],
 "metadata": {
  "kernelspec": {
   "display_name": "base",
   "language": "python",
   "name": "python3"
  },
  "language_info": {
   "codemirror_mode": {
    "name": "ipython",
    "version": 3
   },
   "file_extension": ".py",
   "mimetype": "text/x-python",
   "name": "python",
   "nbconvert_exporter": "python",
   "pygments_lexer": "ipython3",
   "version": "3.10.8"
  },
  "orig_nbformat": 4,
  "vscode": {
   "interpreter": {
    "hash": "193aa6218da7f76a59dc2bd6ea87d2b224c2417ad29cdf12ab4b4772313a8948"
   }
  }
 },
 "nbformat": 4,
 "nbformat_minor": 2
}
